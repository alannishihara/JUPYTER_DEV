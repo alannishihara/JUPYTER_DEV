{
 "cells": [
  {
   "cell_type": "code",
   "execution_count": null,
   "id": "1450a8df-92c1-4265-8667-5af7879803c8",
   "metadata": {},
   "outputs": [],
   "source": [
    "while True:\n",
    "    name = input('\\nPlease enter your name: ')\n",
    "    if name == 'Tom':\n",
    "        print('\\n\\tAccess GRANTED, ' + name + '!\\n')\n",
    "    else:\n",
    "        print('\\n\\tAccess DENIED, ' + name + '!\\n')\n",
    "    break"
   ]
  }
 ],
 "metadata": {
  "kernelspec": {
   "display_name": "Python 3 (ipykernel)",
   "language": "python",
   "name": "python3"
  },
  "language_info": {
   "codemirror_mode": {
    "name": "ipython",
    "version": 3
   },
   "file_extension": ".py",
   "mimetype": "text/x-python",
   "name": "python",
   "nbconvert_exporter": "python",
   "pygments_lexer": "ipython3",
   "version": "3.10.11"
  }
 },
 "nbformat": 4,
 "nbformat_minor": 5
}
