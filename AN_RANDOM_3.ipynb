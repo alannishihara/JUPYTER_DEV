{
 "cells": [
  {
   "cell_type": "code",
   "execution_count": null,
   "id": "fe274758-a605-41fe-a34e-8cf0692aa349",
   "metadata": {},
   "outputs": [],
   "source": [
    "import random\n",
    "\n",
    "n1 = input(\"\\nEnter lower end of numeric range (an integer between 1 and 5): \")\n",
    "n2 = input(\"Enter upper end of numeric range (an integer between 6 and 10): \")\n",
    "\n",
    "random_number = random.randint(int(n1), int(n2))  # Generates a random integer between n1 and n2 (inclusive)\n",
    "\n",
    "while True:\n",
    "    if 1 <= random_number <=5:\n",
    "        print(f\"\\nThe random number generated is: {random_number}\\n\")\n",
    "        print(f\"...which is BETWEEN 1 AND 5\\n\")\n",
    "        break\n",
    "    else:\n",
    "        print(f\"\\nThe random number generated is: {random_number}\\n\")\n",
    "        print(f\"...which is BETWEEN 6 AND 10\\n\")\n",
    "        break"
   ]
  }
 ],
 "metadata": {
  "kernelspec": {
   "display_name": "Python 3 (ipykernel)",
   "language": "python",
   "name": "python3"
  },
  "language_info": {
   "codemirror_mode": {
    "name": "ipython",
    "version": 3
   },
   "file_extension": ".py",
   "mimetype": "text/x-python",
   "name": "python",
   "nbconvert_exporter": "python",
   "pygments_lexer": "ipython3",
   "version": "3.10.11"
  }
 },
 "nbformat": 4,
 "nbformat_minor": 5
}
