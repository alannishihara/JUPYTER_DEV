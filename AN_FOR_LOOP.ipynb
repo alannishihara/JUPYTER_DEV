{
 "cells": [
  {
   "cell_type": "code",
   "execution_count": null,
   "id": "352662d2-c421-4ac2-9dbb-f7b18eb3b415",
   "metadata": {},
   "outputs": [
    {
     "name": "stdin",
     "output_type": "stream",
     "text": [
      "\n",
      "Please enter your name:  Tom\n"
     ]
    },
    {
     "name": "stdout",
     "output_type": "stream",
     "text": [
      "\n",
      "\tAccess GRANTED, Tom!\n"
     ]
    },
    {
     "name": "stdin",
     "output_type": "stream",
     "text": [
      "\n",
      "Please enter your name:  Alan\n"
     ]
    },
    {
     "name": "stdout",
     "output_type": "stream",
     "text": [
      "\n",
      "\tAccess DENIED, Alan!\n"
     ]
    }
   ],
   "source": [
    "# for letter in 'HELLO!':\n",
    "#     print(letter)\n",
    "\n",
    "while True:\n",
    "    name = input('\\nPlease enter your name: ')\n",
    "    if name == 'Tom':\n",
    "        print('\\n\\tAccess GRANTED, ' + name + '!')\n",
    "    else:\n",
    "        print('\\n\\tAccess DENIED, ' + name + '!')"
   ]
  },
  {
   "cell_type": "code",
   "execution_count": null,
   "id": "e3ef52c7-bf49-4b08-be51-4ab0dfecf2e5",
   "metadata": {},
   "outputs": [],
   "source": []
  }
 ],
 "metadata": {
  "kernelspec": {
   "display_name": "Python 3 (ipykernel)",
   "language": "python",
   "name": "python3"
  },
  "language_info": {
   "codemirror_mode": {
    "name": "ipython",
    "version": 3
   },
   "file_extension": ".py",
   "mimetype": "text/x-python",
   "name": "python",
   "nbconvert_exporter": "python",
   "pygments_lexer": "ipython3",
   "version": "3.10.11"
  }
 },
 "nbformat": 4,
 "nbformat_minor": 5
}
