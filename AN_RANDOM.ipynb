{
 "cells": [
  {
   "cell_type": "code",
   "execution_count": null,
   "id": "0561d46f-cc5b-4513-9b98-121960f85167",
   "metadata": {},
   "outputs": [],
   "source": [
    "import random\n",
    "\n",
    "n1 = 1\n",
    "n2 = 20\n",
    "\n",
    "random_number = random.randint(n1, n2)  # Generates a random integer between n1 and n2 (inclusive)\n",
    "print(f\"This is a random number between 1 and 20\\n{random_number}\\n\")"
   ]
  }
 ],
 "metadata": {
  "kernelspec": {
   "display_name": "Python 3 (ipykernel)",
   "language": "python",
   "name": "python3"
  },
  "language_info": {
   "codemirror_mode": {
    "name": "ipython",
    "version": 3
   },
   "file_extension": ".py",
   "mimetype": "text/x-python",
   "name": "python",
   "nbconvert_exporter": "python",
   "pygments_lexer": "ipython3",
   "version": "3.10.11"
  }
 },
 "nbformat": 4,
 "nbformat_minor": 5
}
