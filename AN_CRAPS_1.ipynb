{
 "cells": [
  {
   "cell_type": "code",
   "execution_count": null,
   "id": "b08d1b7e-f6dc-46f9-b31f-34c1e4636072",
   "metadata": {
    "tags": []
   },
   "outputs": [
    {
     "name": "stdout",
     "output_type": "stream",
     "text": [
      "\n",
      "Die 1 =  5 / Die 2 =  2\n",
      "7 You rolled a  7 and WON!\n",
      "\n"
     ]
    },
    {
     "name": "stdin",
     "output_type": "stream",
     "text": [
      "Play again? (Y or N):  Y\n"
     ]
    },
    {
     "name": "stdout",
     "output_type": "stream",
     "text": [
      "\n",
      "Die 1 =  6 / Die 2 =  6\n",
      "12 You rolled CRAPS! You Lose!\n",
      "\n"
     ]
    }
   ],
   "source": [
    "# AN_CRAPS.py\n",
    "\n",
    "from random import randint\n",
    "\n",
    "def main():\n",
    "    s = ''\n",
    "    while not s or s[0] in 'Yy':\n",
    "        play_the_game()\n",
    "        s = input('Play again? (Y or N): ')\n",
    "\n",
    "def play_the_game():\n",
    "    r = roll();\n",
    "    if r == 7 or r == 11:\n",
    "        print(r, 'You rolled a ', r, 'and WON!\\n')\n",
    "        return\n",
    "    elif r == 2 or r == 3 or r == 12:\n",
    "        print(r, 'You rolled CRAPS! You Lose!\\n')\n",
    "        return\n",
    "    else:\n",
    "        print('The POINT is:', r)\n",
    "    \n",
    "    point = r\n",
    "    \n",
    "    while True:\n",
    "        s = input(\"\\nEnter <E> to exit, or enter any other key to continue: \")\n",
    "        if len(s) > 0 and s[0] in 'Ee':\n",
    "            return\n",
    "        r = roll()\n",
    "        print('You rolled a ', r)\n",
    "        if r == point:\n",
    "            print('You rolled the POINT and WON!\\n')\n",
    "            return\n",
    "        elif r == 7:\n",
    "            print('SEVEN OUT; you lose!\\n')        \n",
    "            return\n",
    "        \n",
    "def roll():\n",
    "    d1 = randint(1, 6)\n",
    "    d2 = randint(1, 6)\n",
    "    print('\\nDie 1 = ', d1, '/ ' 'Die 2 = ', d2)\n",
    "    return d1 + d2\n",
    "\n",
    "main()"
   ]
  },
  {
   "cell_type": "code",
   "execution_count": null,
   "id": "a0b9c8cf-1de8-4eb4-985a-ffc25053203a",
   "metadata": {},
   "outputs": [],
   "source": []
  }
 ],
 "metadata": {
  "kernelspec": {
   "display_name": "Python 3 (ipykernel)",
   "language": "python",
   "name": "python3"
  },
  "language_info": {
   "codemirror_mode": {
    "name": "ipython",
    "version": 3
   },
   "file_extension": ".py",
   "mimetype": "text/x-python",
   "name": "python",
   "nbconvert_exporter": "python",
   "pygments_lexer": "ipython3",
   "version": "3.10.11"
  }
 },
 "nbformat": 4,
 "nbformat_minor": 5
}
